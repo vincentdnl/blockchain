{
 "cells": [
  {
   "cell_type": "markdown",
   "source": [
    "# Blockchain\n",
    "\n",
    "Pour commencer, on va définir une structure de block simple en python.\n",
    "\n",
    "Le bloc prendra pour argument une timestamp, des données et le hash du dernier block."
   ],
   "metadata": {
    "collapsed": false
   }
  },
  {
   "cell_type": "code",
   "execution_count": 2,
   "metadata": {
    "collapsed": true
   },
   "outputs": [],
   "source": [
    "import hashlib\n",
    "from datetime import datetime\n",
    "\n",
    "class Block:\n",
    "    def __init__(self, timestamp, data, last_block=None):\n",
    "        self.timestamp = timestamp\n",
    "        self.data = data\n",
    "        self.last_block = last_block\n",
    "\n",
    "    @property\n",
    "    def hash(self):\n",
    "        m = hashlib.sha256()\n",
    "        m.update(bytes(str(self.timestamp), \"utf-8\"))\n",
    "        m.update(bytes(self.data, \"utf-8\"))\n",
    "        if self.last_block:\n",
    "            m.update(bytes(self.last_block.hash, \"utf-8\"))\n",
    "        return m.hexdigest()"
   ]
  },
  {
   "cell_type": "markdown",
   "source": [
    "Dans cet exemple de blog nous utilisons la fonction `sha256` de la librairie `hashlib` de Python. Cette fonction nous permettra de créer le hash du bloc.\n",
    "\n",
    "Les fonctions de hashage (hashing functions) sont des algorithmes qui acceptent n'importe quel donnée de nimporte quelle taille et génère une chaine de caractère de longueur fixe en sortie."
   ],
   "metadata": {
    "collapsed": false,
    "pycharm": {
     "name": "#%% md\n"
    }
   }
  },
  {
   "cell_type": "code",
   "execution_count": 4,
   "outputs": [
    {
     "name": "stdout",
     "output_type": "stream",
     "text": [
      "e3c18f5c1f8a09f3353e25bde7bfbbb731209ce72dffd2720f85ec11a06b9155\n",
      "602d108f618eb96268bcef7b97b2b318a73fd4221b23f0c4db615db518943ce2\n"
     ]
    }
   ],
   "source": [
    "print(hashlib.sha256(b\"Salut!\").hexdigest())\n",
    "print(hashlib.sha256(b\"Salut tout le monde, vous allez bien?\").hexdigest())"
   ],
   "metadata": {
    "collapsed": false,
    "pycharm": {
     "name": "#%%\n"
    }
   }
  },
  {
   "cell_type": "markdown",
   "source": [
    "Les fonctions de hashage sont déterministes. Cela signifie que si l'on les lances plusieurs fois de suite, le résultat sera identique"
   ],
   "metadata": {
    "collapsed": false,
    "pycharm": {
     "name": "#%% md\n"
    }
   }
  },
  {
   "cell_type": "code",
   "execution_count": 5,
   "outputs": [
    {
     "name": "stdout",
     "output_type": "stream",
     "text": [
      "e3c18f5c1f8a09f3353e25bde7bfbbb731209ce72dffd2720f85ec11a06b9155\n",
      "e3c18f5c1f8a09f3353e25bde7bfbbb731209ce72dffd2720f85ec11a06b9155\n"
     ]
    }
   ],
   "source": [
    "print(hashlib.sha256(b\"Salut!\").hexdigest())\n",
    "print(hashlib.sha256(b\"Salut!\").hexdigest())"
   ],
   "metadata": {
    "collapsed": false,
    "pycharm": {
     "name": "#%%\n"
    }
   }
  },
  {
   "cell_type": "markdown",
   "source": [
    "Un très petit changement dans la chaîne d'entrée crée un hash totalement différent."
   ],
   "metadata": {
    "collapsed": false,
    "pycharm": {
     "name": "#%% md\n"
    }
   }
  },
  {
   "cell_type": "code",
   "execution_count": 6,
   "outputs": [
    {
     "name": "stdout",
     "output_type": "stream",
     "text": [
      "e3c18f5c1f8a09f3353e25bde7bfbbb731209ce72dffd2720f85ec11a06b9155\n",
      "1bfdc23d3e2901d307eadaeb8fb299f2a914a2d80d785a6088ef8bcf6d067e47\n"
     ]
    }
   ],
   "source": [
    "print(hashlib.sha256(b\"Salut!\").hexdigest())\n",
    "print(hashlib.sha256(b\"salut!\").hexdigest())\n"
   ],
   "metadata": {
    "collapsed": false,
    "pycharm": {
     "name": "#%%\n"
    }
   }
  },
  {
   "cell_type": "markdown",
   "source": [
    "On ne peut pas remonter aux données d'origine à partir du hash.\n",
    "\n",
    "Ces propriétés font du hash un outil très puissant pour vérifier l'intégrité de données."
   ],
   "metadata": {
    "collapsed": false,
    "pycharm": {
     "name": "#%% md\n"
    }
   }
  },
  {
   "cell_type": "markdown",
   "source": [
    "On va définir un bloc genesis, le premier de la blockchain."
   ],
   "metadata": {
    "collapsed": false,
    "pycharm": {
     "name": "#%% md\n"
    }
   }
  },
  {
   "cell_type": "code",
   "execution_count": 28,
   "outputs": [
    {
     "name": "stdout",
     "output_type": "stream",
     "text": [
      "genesis block hash: f20ee5c9440f16c19e5800aab8759b2af67d022deba007af5aa26b55c4f8f454\n"
     ]
    }
   ],
   "source": [
    "genesis = Block(\n",
    "    datetime.timestamp(datetime.now()),\n",
    "    \"Salut tout le monde, je suis le premier bloc !\"\n",
    ")\n",
    "\n",
    "print(f\"genesis block hash: {genesis.hash}\")"
   ],
   "metadata": {
    "collapsed": false,
    "pycharm": {
     "name": "#%%\n"
    }
   }
  },
  {
   "cell_type": "markdown",
   "source": [
    "Les blocs suivants prendront le hash du block précédent comme argument"
   ],
   "metadata": {
    "collapsed": false,
    "pycharm": {
     "name": "#%% md\n"
    }
   }
  },
  {
   "cell_type": "code",
   "execution_count": 35,
   "outputs": [
    {
     "name": "stdout",
     "output_type": "stream",
     "text": [
      "block1 hash: e43ca6fb90bb0e4cd9cb86b2a2cf0d97e6d0d8db8fa60b1ed5607973d645a08e\n",
      "block2 hash: 9f78c02e197d5de658d3bcc6df87e24186243df93e1106a129949deb2346893a\n",
      "block3 hash: f6396d8d081748fee22a70994173f72cad52189fd129c455da3e24c734d56107\n"
     ]
    }
   ],
   "source": [
    "block1 = Block(\n",
    "    datetime.timestamp(datetime.now()),\n",
    "    \"On ajoute des données dans la blockchain\",\n",
    "    last_block=genesis\n",
    ")\n",
    "block2 = Block(\n",
    "    datetime.timestamp(datetime.now()),\n",
    "    \"encore\",\n",
    "    last_block=block1\n",
    ")\n",
    "\n",
    "block3 = Block(\n",
    "    datetime.timestamp(datetime.now()),\n",
    "    \"et encore\",\n",
    "    last_block=block2\n",
    ")\n",
    "\n",
    "print(f\"block1 hash: {block1.hash}\")\n",
    "print(f\"block2 hash: {block2.hash}\")\n",
    "print(f\"block3 hash: {block3.hash}\")"
   ],
   "metadata": {
    "collapsed": false,
    "pycharm": {
     "name": "#%%\n"
    }
   }
  },
  {
   "cell_type": "markdown",
   "source": [
    "Maintenant imaginons que je change une donnée dans un des blocs précédents:"
   ],
   "metadata": {
    "collapsed": false
   }
  },
  {
   "cell_type": "code",
   "execution_count": 36,
   "outputs": [
    {
     "name": "stdout",
     "output_type": "stream",
     "text": [
      "block3 hash: f6396d8d081748fee22a70994173f72cad52189fd129c455da3e24c734d56107\n",
      "block3 hash: ddbbb486b6f4d4ff63a562424abd4b8eddb54ea4a395c9710337f22962cdcec6\n"
     ]
    }
   ],
   "source": [
    "print(f\"block3 hash: {block3.hash}\")\n",
    "\n",
    "block1.data = \"je modifie les données, ni vu ni connu...\"\n",
    "\n",
    "print(f\"block3 hash: {block3.hash}\")"
   ],
   "metadata": {
    "collapsed": false,
    "pycharm": {
     "name": "#%%\n"
    }
   }
  },
  {
   "cell_type": "markdown",
   "source": [
    "Le hash du block a changé ! Dans un système à blockchain, si quelqu'un modifie le contenu d'un block antérieur, toute la chaine de hash se retrouve modifiée jusqu'au dernier block.\n",
    "\n",
    "En vérifiant le hash du block précédent, on peut facilement déterminer si les données ont été changées sans avoir à vérifier toute les transactions une à une. Si un hash n'a pas la valeur attendue, alors les données ont probablement été corrompus ou altérés.\n"
   ],
   "metadata": {
    "collapsed": false
   }
  }
 ],
 "metadata": {
  "kernelspec": {
   "name": "python3",
   "language": "python",
   "display_name": "Python 3"
  },
  "language_info": {
   "codemirror_mode": {
    "name": "ipython",
    "version": 2
   },
   "file_extension": ".py",
   "mimetype": "text/x-python",
   "name": "python",
   "nbconvert_exporter": "python",
   "pygments_lexer": "ipython2",
   "version": "2.7.6"
  }
 },
 "nbformat": 4,
 "nbformat_minor": 0
}